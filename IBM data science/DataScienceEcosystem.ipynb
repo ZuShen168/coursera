{
 "cells": [
  {
   "cell_type": "markdown",
   "id": "a8ce205a-f7e9-41c4-bf2e-dd029410e4c9",
   "metadata": {},
   "source": [
    "# Data Science Tools and Ecosystem"
   ]
  },
  {
   "cell_type": "markdown",
   "id": "657344e9-759b-4785-882c-f7c00ebc1dbb",
   "metadata": {},
   "source": [
    "In this notebook, Data Science Tools and Ecosystem are summarized."
   ]
  },
  {
   "cell_type": "markdown",
   "id": "7ea6ecee-3cdd-46b6-8d6c-5746f0281635",
   "metadata": {},
   "source": [
    "**Objectives:**\n",
    "- List popular languages for Data Science\n",
    "- List popular libraries for Data Science\n",
    "- List popular tools for Data Science"
   ]
  },
  {
   "cell_type": "markdown",
   "id": "3354c1bf-71e9-4bf4-8cf8-9b0e8955cc83",
   "metadata": {},
   "source": [
    "Some of the popular languages that Data Scientists use are:\n",
    "1. Python\n",
    "2. R\n",
    "3. C++\n",
    "4. Java"
   ]
  },
  {
   "cell_type": "markdown",
   "id": "1f40aa39-3470-4376-a6d1-3ef888586411",
   "metadata": {},
   "source": [
    "Some of the commonly used libraries used by Data Scientists include:\n",
    "1. Numpy\n",
    "2. Pandas\n",
    "3. Matplolib\n",
    "4. Tensorflow\n",
    "5. Scikitlearn"
   ]
  },
  {
   "cell_type": "markdown",
   "id": "8ea40cde-e7d8-4486-a01f-cc52d7e1be73",
   "metadata": {},
   "source": [
    "Data Science Tools\n",
    "1. Jupyter Notebook\n",
    "2. RStudio\n",
    "3. Visual Studio Code"
   ]
  },
  {
   "cell_type": "markdown",
   "id": "6a7949f2-41e1-4fd8-bf13-b7bff6a79d57",
   "metadata": {},
   "source": [
    "### Below are a few examples of evaluating arithmetic expressions in Python"
   ]
  },
  {
   "cell_type": "code",
   "execution_count": 19,
   "id": "c1da77d1-e047-41f9-9b79-92f43066ca58",
   "metadata": {},
   "outputs": [
    {
     "data": {
      "text/plain": [
       "17"
      ]
     },
     "execution_count": 19,
     "metadata": {},
     "output_type": "execute_result"
    }
   ],
   "source": [
    "#This a simple arithmetic expression to mutiply then add integers\n",
    "(3*4)+5"
   ]
  },
  {
   "cell_type": "code",
   "execution_count": 37,
   "id": "36c279f6-5ebf-42cc-ac3f-527e7c79b262",
   "metadata": {},
   "outputs": [
    {
     "name": "stdout",
     "output_type": "stream",
     "text": [
      "200 minutes = 3.33 hours\n"
     ]
    }
   ],
   "source": [
    "#This will convert 200 minutes to hours by diving by 60\n",
    "def convert200MinsToHours():\n",
    "    mins = 200\n",
    "    hours = mins/60\n",
    "    print(str(mins) + \" minutes = \" + str(round(hours, 2)) + \" hours\")\n",
    "\n",
    "convert200MinsToHours()"
   ]
  },
  {
   "cell_type": "markdown",
   "id": "ab4f5917-8c04-4e3d-a48e-b034e69e22c2",
   "metadata": {},
   "source": [
    "## Author\n",
    "Ng Zu Shen"
   ]
  },
  {
   "cell_type": "code",
   "execution_count": null,
   "id": "09885494-778e-4edb-bb29-e1d48f47262a",
   "metadata": {},
   "outputs": [],
   "source": []
  }
 ],
 "metadata": {
  "kernelspec": {
   "display_name": "Python 3 (ipykernel)",
   "language": "python",
   "name": "python3"
  },
  "language_info": {
   "codemirror_mode": {
    "name": "ipython",
    "version": 3
   },
   "file_extension": ".py",
   "mimetype": "text/x-python",
   "name": "python",
   "nbconvert_exporter": "python",
   "pygments_lexer": "ipython3",
   "version": "3.12.4"
  }
 },
 "nbformat": 4,
 "nbformat_minor": 5
}
